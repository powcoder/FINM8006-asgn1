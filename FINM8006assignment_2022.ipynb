{
 "cells": [
  {
   "cell_type": "code",
   "execution_count": 1,
   "metadata": {},
   "outputs": [],
   "source": [
    "# Python 3.X\n",
    "import numpy as np\n",
    "from pandas import Series, DataFrame\n",
    "from pandas.tseries.offsets import MonthEnd\n",
    "import pandas as pd\n",
    "import matplotlib.pyplot as plt\n",
    "%matplotlib inline\n",
    "import seaborn as sns\n",
    "import statsmodels.api as sm\n",
    "import statsmodels.formula.api as smf\n",
    "from scipy.stats import ttest_1samp\n",
    "np.set_printoptions(precision=3)\n",
    "import datetime\n",
    "plt.rc('figure', figsize=(10, 8))\n",
    "from numpy.linalg import inv\n",
    "from numpy import dot\n",
    "import re"
   ]
  },
  {
   "cell_type": "markdown",
   "metadata": {},
   "source": [
    "# FINM 8006 Assignment \n",
    "\n",
    "* Due COB 14 Oct, 2022\n",
    "* Submit one copy each group with all student name and UID clearly typed. \n",
    "* You have the option of completing your assignment directly in this notebook (just insert cells in the .ipynb file). You should have Jupyter notebook installed if you want to use this. \n",
    "* You can alternatively write your answers in the editor of your choosing (Words, etc.), and run your code in a separate file. If you use a separate programming file, please submit both your answer file and the programming file. \n",
    "* Innitial data loading and cleaning is given in the steps below. "
   ]
  },
  {
   "cell_type": "markdown",
   "metadata": {},
   "source": [
    "## Mean Variance Optimization"
   ]
  },
  {
   "cell_type": "markdown",
   "metadata": {},
   "source": [
    "Data of monthly returns is given in asgn1.csv, where date is the end of the return months, RET is the montly return, PERMNO is the stock code, rf is the risk free rate."
   ]
  },
  {
   "cell_type": "markdown",
   "metadata": {},
   "source": [
    "### Q1.1\n",
    "\n",
    "Suppose you are about to invest at the beginning of January 2005, and you want to acheive mean-variance efficiency using these 5 stocks. You estimate of the mean and variance of the risky stocks using data from the past 36 months.  The risk free rate is known at the beginning of the periods.\n",
    "\n",
    "If your desired rate of return is 3% in the month, find the **optimal weights on the stocks, and the expected mean and standard deviation of your portfolio.** "
   ]
  },
  {
   "cell_type": "code",
   "execution_count": 65,
   "metadata": {},
   "outputs": [],
   "source": [
    "def load_mv_data():\n",
    "    stocks=DataFrame([{'Apple':14593, 'IBM':12490, 'Microsoft':10107, 'Nike':57665, 'Disney':26403}], \n",
    "                 index=['PERMNO']).T\n",
    "    stocks.index.name = 'stocks'\n",
    "    stocks = stocks.reset_index().sort_values(['PERMNO'])\n",
    "    msf = pd.read_csv('asgn1.csv')\n",
    "    msf['date']=pd.to_datetime(msf['date'])\n",
    "    msf = msf.merge(stocks, on='PERMNO')\n",
    "    msf = msf.sort_values(['PERMNO', 'date'])\n",
    "    return msf, stocks"
   ]
  },
  {
   "cell_type": "code",
   "execution_count": 66,
   "metadata": {},
   "outputs": [
    {
     "data": {
      "text/html": [
       "<div>\n",
       "<style scoped>\n",
       "    .dataframe tbody tr th:only-of-type {\n",
       "        vertical-align: middle;\n",
       "    }\n",
       "\n",
       "    .dataframe tbody tr th {\n",
       "        vertical-align: top;\n",
       "    }\n",
       "\n",
       "    .dataframe thead th {\n",
       "        text-align: right;\n",
       "    }\n",
       "</style>\n",
       "<table border=\"1\" class=\"dataframe\">\n",
       "  <thead>\n",
       "    <tr style=\"text-align: right;\">\n",
       "      <th></th>\n",
       "      <th>date</th>\n",
       "      <th>PERMNO</th>\n",
       "      <th>RET</th>\n",
       "      <th>rf</th>\n",
       "      <th>stocks</th>\n",
       "    </tr>\n",
       "  </thead>\n",
       "  <tbody>\n",
       "    <tr>\n",
       "      <th>0</th>\n",
       "      <td>1994-01-31</td>\n",
       "      <td>10107</td>\n",
       "      <td>0.055814</td>\n",
       "      <td>0.0025</td>\n",
       "      <td>Microsoft</td>\n",
       "    </tr>\n",
       "    <tr>\n",
       "      <th>1</th>\n",
       "      <td>1994-02-28</td>\n",
       "      <td>10107</td>\n",
       "      <td>-0.030837</td>\n",
       "      <td>0.0021</td>\n",
       "      <td>Microsoft</td>\n",
       "    </tr>\n",
       "    <tr>\n",
       "      <th>2</th>\n",
       "      <td>1994-03-31</td>\n",
       "      <td>10107</td>\n",
       "      <td>0.027273</td>\n",
       "      <td>0.0027</td>\n",
       "      <td>Microsoft</td>\n",
       "    </tr>\n",
       "  </tbody>\n",
       "</table>\n",
       "</div>"
      ],
      "text/plain": [
       "        date  PERMNO       RET      rf     stocks\n",
       "0 1994-01-31   10107  0.055814  0.0025  Microsoft\n",
       "1 1994-02-28   10107 -0.030837  0.0021  Microsoft\n",
       "2 1994-03-31   10107  0.027273  0.0027  Microsoft"
      ]
     },
     "execution_count": 66,
     "metadata": {},
     "output_type": "execute_result"
    }
   ],
   "source": [
    "msf, stocks = load_mv_data()\n",
    "msf.head(3)"
   ]
  },
  {
   "cell_type": "code",
   "execution_count": null,
   "metadata": {},
   "outputs": [],
   "source": []
  },
  {
   "cell_type": "markdown",
   "metadata": {},
   "source": [
    "### Q1.2\n",
    "Plot the mean-variance efficeint curve of these assets when you make your investment decision. "
   ]
  },
  {
   "cell_type": "code",
   "execution_count": null,
   "metadata": {},
   "outputs": [],
   "source": []
  },
  {
   "cell_type": "markdown",
   "metadata": {},
   "source": [
    "## Asset Pricing in Chinese Markets\n",
    "\n",
    "Many have commented that the Chinese stock market is very different from the more mature markets. In this assignment, you will explore some aspects of the asset pricing in Chinese markets."
   ]
  },
  {
   "cell_type": "markdown",
   "metadata": {},
   "source": [
    "#### Loading data\n",
    "\n",
    "You are given three data sets from year 2000: 'csmar_be.csv' has the December book value (BE) of firms (STKCD). 'csmarstk0016.csv' has monthly market value (ME) and return (ret) information of individual stocks. Data is cleaned to exclude micro stoks and penny stocks. 'csmarmktretrf.csv' has market and risk free returns. Market return here is proxied by returns on the SSE. \n",
    "\n",
    "* ME: market value of equity\n",
    "* STKCD: stock code\n",
    "* MARKETTYPE: market type, 1 is Shanghai, 4 is Shengzhen\n",
    "* BE: book value of equity\n",
    "* ret: stock return\n",
    "* mktret: market return\n",
    "* rf: risk free rate"
   ]
  },
  {
   "cell_type": "code",
   "execution_count": 5,
   "metadata": {},
   "outputs": [],
   "source": [
    "def load_stock_returns():\n",
    "    # markettype 1 Shanghai A, 4, Shengzhen A\n",
    "    df=pd.read_csv('csmarstk0016.csv')\n",
    "    df['TRDMNT'] = pd.to_datetime(df['TRDMNT'].astype('str'), format='%Y-%m-%d')\n",
    "    df = df.rename(columns={'TRDMNT':'date'})\n",
    "    df = df.loc[df['ret'].notnull()]\n",
    "    return df"
   ]
  },
  {
   "cell_type": "code",
   "execution_count": 6,
   "metadata": {},
   "outputs": [
    {
     "data": {
      "text/html": [
       "<div>\n",
       "<style scoped>\n",
       "    .dataframe tbody tr th:only-of-type {\n",
       "        vertical-align: middle;\n",
       "    }\n",
       "\n",
       "    .dataframe tbody tr th {\n",
       "        vertical-align: top;\n",
       "    }\n",
       "\n",
       "    .dataframe thead th {\n",
       "        text-align: right;\n",
       "    }\n",
       "</style>\n",
       "<table border=\"1\" class=\"dataframe\">\n",
       "  <thead>\n",
       "    <tr style=\"text-align: right;\">\n",
       "      <th></th>\n",
       "      <th>STKCD</th>\n",
       "      <th>MARKETTYPE</th>\n",
       "      <th>date</th>\n",
       "      <th>ME</th>\n",
       "      <th>ret</th>\n",
       "    </tr>\n",
       "  </thead>\n",
       "  <tbody>\n",
       "    <tr>\n",
       "      <th>0</th>\n",
       "      <td>1</td>\n",
       "      <td>4</td>\n",
       "      <td>2000-01-31</td>\n",
       "      <td>2.875573e+10</td>\n",
       "      <td>0.061891</td>\n",
       "    </tr>\n",
       "    <tr>\n",
       "      <th>1</th>\n",
       "      <td>1</td>\n",
       "      <td>4</td>\n",
       "      <td>2000-02-29</td>\n",
       "      <td>2.842984e+10</td>\n",
       "      <td>-0.011333</td>\n",
       "    </tr>\n",
       "    <tr>\n",
       "      <th>2</th>\n",
       "      <td>1</td>\n",
       "      <td>4</td>\n",
       "      <td>2000-03-31</td>\n",
       "      <td>2.850743e+10</td>\n",
       "      <td>0.002729</td>\n",
       "    </tr>\n",
       "    <tr>\n",
       "      <th>3</th>\n",
       "      <td>1</td>\n",
       "      <td>4</td>\n",
       "      <td>2000-04-30</td>\n",
       "      <td>2.956269e+10</td>\n",
       "      <td>0.037017</td>\n",
       "    </tr>\n",
       "    <tr>\n",
       "      <th>4</th>\n",
       "      <td>1</td>\n",
       "      <td>4</td>\n",
       "      <td>2000-05-31</td>\n",
       "      <td>2.793325e+10</td>\n",
       "      <td>-0.055118</td>\n",
       "    </tr>\n",
       "  </tbody>\n",
       "</table>\n",
       "</div>"
      ],
      "text/plain": [
       "   STKCD  MARKETTYPE       date            ME       ret\n",
       "0      1           4 2000-01-31  2.875573e+10  0.061891\n",
       "1      1           4 2000-02-29  2.842984e+10 -0.011333\n",
       "2      1           4 2000-03-31  2.850743e+10  0.002729\n",
       "3      1           4 2000-04-30  2.956269e+10  0.037017\n",
       "4      1           4 2000-05-31  2.793325e+10 -0.055118"
      ]
     },
     "execution_count": 6,
     "metadata": {},
     "output_type": "execute_result"
    }
   ],
   "source": [
    "stkret = load_stock_returns()\n",
    "stkret.head()"
   ]
  },
  {
   "cell_type": "code",
   "execution_count": 15,
   "metadata": {},
   "outputs": [],
   "source": [
    "def load_market_return():\n",
    "    df = pd.read_csv('csmarmktretrf.csv')\n",
    "    df['TRDMNT'] = pd.to_datetime(df['TRDMNT'].astype('str'), format='%Y-%m-%d')\n",
    "    df = df.rename(columns={'TRDMNT':'date'})\n",
    "    df = df.drop('mktretxd', axis=1)\n",
    "    return df"
   ]
  },
  {
   "cell_type": "code",
   "execution_count": 16,
   "metadata": {},
   "outputs": [
    {
     "data": {
      "text/html": [
       "<div>\n",
       "<style scoped>\n",
       "    .dataframe tbody tr th:only-of-type {\n",
       "        vertical-align: middle;\n",
       "    }\n",
       "\n",
       "    .dataframe tbody tr th {\n",
       "        vertical-align: top;\n",
       "    }\n",
       "\n",
       "    .dataframe thead th {\n",
       "        text-align: right;\n",
       "    }\n",
       "</style>\n",
       "<table border=\"1\" class=\"dataframe\">\n",
       "  <thead>\n",
       "    <tr style=\"text-align: right;\">\n",
       "      <th></th>\n",
       "      <th>date</th>\n",
       "      <th>mktret</th>\n",
       "      <th>rf</th>\n",
       "    </tr>\n",
       "  </thead>\n",
       "  <tbody>\n",
       "    <tr>\n",
       "      <th>0</th>\n",
       "      <td>2000-01-31</td>\n",
       "      <td>0.123413</td>\n",
       "      <td>0.001856</td>\n",
       "    </tr>\n",
       "    <tr>\n",
       "      <th>1</th>\n",
       "      <td>2000-02-29</td>\n",
       "      <td>0.118776</td>\n",
       "      <td>0.001856</td>\n",
       "    </tr>\n",
       "    <tr>\n",
       "      <th>2</th>\n",
       "      <td>2000-03-31</td>\n",
       "      <td>0.049308</td>\n",
       "      <td>0.001856</td>\n",
       "    </tr>\n",
       "  </tbody>\n",
       "</table>\n",
       "</div>"
      ],
      "text/plain": [
       "        date    mktret        rf\n",
       "0 2000-01-31  0.123413  0.001856\n",
       "1 2000-02-29  0.118776  0.001856\n",
       "2 2000-03-31  0.049308  0.001856"
      ]
     },
     "execution_count": 16,
     "metadata": {},
     "output_type": "execute_result"
    }
   ],
   "source": [
    "mktret = load_market_return()\n",
    "mktret.head(3)"
   ]
  },
  {
   "cell_type": "code",
   "execution_count": 17,
   "metadata": {},
   "outputs": [],
   "source": [
    "def load_book_value():\n",
    "    # December Book Equity where BE >0\n",
    "    df= pd.read_csv('csmar_be.csv')\n",
    "    df['date'] = pd.to_datetime(df['date'].astype('str'), format='%Y-%m-%d') \n",
    "    df = df.loc[df['BE']>0]\n",
    "    df = df.sort_values([\"STKCD\", 'date', 'BE'])\n",
    "    df = df.groupby(['STKCD', 'date']).last().reset_index()\n",
    "    return df"
   ]
  },
  {
   "cell_type": "code",
   "execution_count": 86,
   "metadata": {},
   "outputs": [
    {
     "data": {
      "text/html": [
       "<div>\n",
       "<style scoped>\n",
       "    .dataframe tbody tr th:only-of-type {\n",
       "        vertical-align: middle;\n",
       "    }\n",
       "\n",
       "    .dataframe tbody tr th {\n",
       "        vertical-align: top;\n",
       "    }\n",
       "\n",
       "    .dataframe thead th {\n",
       "        text-align: right;\n",
       "    }\n",
       "</style>\n",
       "<table border=\"1\" class=\"dataframe\">\n",
       "  <thead>\n",
       "    <tr style=\"text-align: right;\">\n",
       "      <th></th>\n",
       "      <th>STKCD</th>\n",
       "      <th>date</th>\n",
       "      <th>BE</th>\n",
       "    </tr>\n",
       "  </thead>\n",
       "  <tbody>\n",
       "    <tr>\n",
       "      <th>0</th>\n",
       "      <td>1</td>\n",
       "      <td>1999-12-31</td>\n",
       "      <td>2.900831e+09</td>\n",
       "    </tr>\n",
       "    <tr>\n",
       "      <th>1</th>\n",
       "      <td>1</td>\n",
       "      <td>2000-12-31</td>\n",
       "      <td>4.738884e+09</td>\n",
       "    </tr>\n",
       "    <tr>\n",
       "      <th>2</th>\n",
       "      <td>1</td>\n",
       "      <td>2001-12-31</td>\n",
       "      <td>3.627669e+09</td>\n",
       "    </tr>\n",
       "    <tr>\n",
       "      <th>3</th>\n",
       "      <td>1</td>\n",
       "      <td>2002-12-31</td>\n",
       "      <td>3.768021e+09</td>\n",
       "    </tr>\n",
       "    <tr>\n",
       "      <th>4</th>\n",
       "      <td>1</td>\n",
       "      <td>2003-12-31</td>\n",
       "      <td>3.965084e+09</td>\n",
       "    </tr>\n",
       "  </tbody>\n",
       "</table>\n",
       "</div>"
      ],
      "text/plain": [
       "   STKCD       date            BE\n",
       "0      1 1999-12-31  2.900831e+09\n",
       "1      1 2000-12-31  4.738884e+09\n",
       "2      1 2001-12-31  3.627669e+09\n",
       "3      1 2002-12-31  3.768021e+09\n",
       "4      1 2003-12-31  3.965084e+09"
      ]
     },
     "execution_count": 86,
     "metadata": {},
     "output_type": "execute_result"
    }
   ],
   "source": [
    "decbe = load_book_value()\n",
    "decbe.head()"
   ]
  },
  {
   "cell_type": "markdown",
   "metadata": {},
   "source": [
    "### Q2.1 \n",
    "Assume that power utility and relative risk aversion is 3, and constent expected market excess return.\n",
    "* What is the optimal proportion of wealth to invest in the risky (stock) assets? (you will invest in a market portfolio). \n",
    "* Your answer above may be different from the typical answer in the U.S. market, explain what mainly drives this difference?"
   ]
  },
  {
   "cell_type": "code",
   "execution_count": null,
   "metadata": {},
   "outputs": [],
   "source": []
  },
  {
   "cell_type": "markdown",
   "metadata": {},
   "source": [
    "### Size and Value"
   ]
  },
  {
   "cell_type": "markdown",
   "metadata": {},
   "source": [
    "#### Forming Portfolios\n",
    "\n",
    "According to size and MTB."
   ]
  },
  {
   "cell_type": "markdown",
   "metadata": {},
   "source": [
    "Starting from '2000-7-31', form a 5X5 portfolios of size and book-to-market. Size is defined by end of June market value of equity, value is defined by December book value of equity in the previous year. Portfolio is rebalanced at each July. \n",
    "* You may want to create a 'year' variable that designate portfolio formation year."
   ]
  },
  {
   "cell_type": "code",
   "execution_count": 81,
   "metadata": {},
   "outputs": [],
   "source": [
    "# year variable here is the portfolio formation year\n",
    "stkret['year'] = np.where(stkret['date'].dt.month>=7, stkret['date'].dt.year, stkret['date'].dt.year-1)"
   ]
  },
  {
   "cell_type": "markdown",
   "metadata": {},
   "source": [
    "### Q2.2 \n",
    "Show the CAPM alpha and beta of these portfolios in respective tables"
   ]
  },
  {
   "cell_type": "code",
   "execution_count": null,
   "metadata": {},
   "outputs": [],
   "source": []
  },
  {
   "cell_type": "markdown",
   "metadata": {},
   "source": [
    "### Q2.3\n",
    "Calculate actual mean portfolio returns and compare them with the CAPM predicted average portfolio returns, explain any patterns in the data. "
   ]
  },
  {
   "cell_type": "code",
   "execution_count": null,
   "metadata": {},
   "outputs": [],
   "source": []
  },
  {
   "cell_type": "markdown",
   "metadata": {},
   "source": [
    "### Q2.4 \n",
    "Plot the mean excess return against CAPM predicted return, plot both within size (BM) plots and the within BM (size) plots. In the U.S. data, the most severe violation of CAPM happens along BTM portfolios, What about China? Can you explain why this factor comes up so significant in the Chinese markets?"
   ]
  },
  {
   "cell_type": "code",
   "execution_count": null,
   "metadata": {},
   "outputs": [],
   "source": []
  },
  {
   "cell_type": "markdown",
   "metadata": {},
   "source": [
    "### Constructing SMB and HML factors\n",
    "\n",
    "Construct 2x3 portfolios of size and BTM according to the Shanghai Stock Exchange cutoff (MARKETTYPE==1). BTM cutoff is (0.3,0.7), Size cutoff is 0.5. Calculate the value-weighted returns of the portfolios and then construct SMB and HML factors following Fama French (93) procedure. "
   ]
  },
  {
   "cell_type": "markdown",
   "metadata": {},
   "source": [
    "### Q2.5\n",
    "Plot the cumulative returns of the SMB and HML factors for the Chinese marlet. "
   ]
  },
  {
   "cell_type": "code",
   "execution_count": null,
   "metadata": {},
   "outputs": [],
   "source": []
  },
  {
   "cell_type": "markdown",
   "metadata": {},
   "source": [
    "### Q2.6 \n",
    "Tabulate the coefficient estimates of the Fama-French 3 factor model of the 25 (5x5) sorted portfolio returns. Does the coefficients estimates make sense? "
   ]
  },
  {
   "cell_type": "code",
   "execution_count": null,
   "metadata": {},
   "outputs": [],
   "source": []
  },
  {
   "cell_type": "markdown",
   "metadata": {},
   "source": [
    "### Q2.7 \n",
    "plot the Mean portfolio return against the Fama-French 3 factor predicted return again for both Within-BM Size Plot and Within-Size BM Plot. How do the graphs compare to the earlier CAPM plots? "
   ]
  },
  {
   "cell_type": "code",
   "execution_count": null,
   "metadata": {},
   "outputs": [],
   "source": []
  }
 ],
 "metadata": {
  "anaconda-cloud": {},
  "hide_input": false,
  "kernelspec": {
   "display_name": "Python 3 (ipykernel)",
   "language": "python",
   "name": "python3"
  },
  "language_info": {
   "codemirror_mode": {
    "name": "ipython",
    "version": 3
   },
   "file_extension": ".py",
   "mimetype": "text/x-python",
   "name": "python",
   "nbconvert_exporter": "python",
   "pygments_lexer": "ipython3",
   "version": "3.10.4"
  },
  "latex_envs": {
   "bibliofile": "biblio.bib",
   "cite_by": "apalike",
   "current_citInitial": 1,
   "eqLabelWithNumbers": true,
   "eqNumInitial": 0
  }
 },
 "nbformat": 4,
 "nbformat_minor": 4
}
